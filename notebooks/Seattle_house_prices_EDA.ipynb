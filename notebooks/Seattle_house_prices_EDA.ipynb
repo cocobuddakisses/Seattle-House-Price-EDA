{
 "cells": [
  {
   "cell_type": "markdown",
   "id": "57179846",
   "metadata": {},
   "source": [
    "# 📊 Housing Prices EDA: Descriptive Statistics & Distributions\n",
    "\n",
    "In this notebook, I’ll explore a housing prices dataset to understand the basic descriptive statistics and the underlying distribution of key numeric variables.\n",
    "\n",
    "**Objectives:**\n",
    "- Compute mean, median, variance, and other summary stats.\n",
    "- Visualize the distribution using histograms, boxplots, and QQ plots.\n",
    "- Test whether the data is normally distributed.\n",
    "- Interpret what this tells us about housing prices.\n",
    "- Log transform data to make distribution normal\n",
    "- Use log transformed data to train linear regression model\n",
    "\n",
    "---\n",
    "\n",
    "## 1️⃣📥 Load Data\n",
    "\n",
    "First, I’ll import the necessary Python libraries and load the housing prices dataset.\n",
    "\n",
    "I’ll inspect the dataset to understand its structure and analyze 'Price'.\n"
   ]
  },
  {
   "cell_type": "code",
   "execution_count": 27,
   "id": "0dffacdc",
   "metadata": {},
   "outputs": [
    {
     "data": {
      "text/html": [
       "<div>\n",
       "<style scoped>\n",
       "    .dataframe tbody tr th:only-of-type {\n",
       "        vertical-align: middle;\n",
       "    }\n",
       "\n",
       "    .dataframe tbody tr th {\n",
       "        vertical-align: top;\n",
       "    }\n",
       "\n",
       "    .dataframe thead th {\n",
       "        text-align: right;\n",
       "    }\n",
       "</style>\n",
       "<table border=\"1\" class=\"dataframe\">\n",
       "  <thead>\n",
       "    <tr style=\"text-align: right;\">\n",
       "      <th></th>\n",
       "      <th>date</th>\n",
       "      <th>price</th>\n",
       "      <th>bedrooms</th>\n",
       "      <th>bathrooms</th>\n",
       "      <th>sqft_living</th>\n",
       "      <th>sqft_lot</th>\n",
       "      <th>floors</th>\n",
       "      <th>waterfront</th>\n",
       "      <th>view</th>\n",
       "      <th>condition</th>\n",
       "      <th>sqft_above</th>\n",
       "      <th>sqft_basement</th>\n",
       "      <th>yr_built</th>\n",
       "      <th>yr_renovated</th>\n",
       "      <th>street</th>\n",
       "      <th>city</th>\n",
       "      <th>statezip</th>\n",
       "      <th>country</th>\n",
       "    </tr>\n",
       "  </thead>\n",
       "  <tbody>\n",
       "    <tr>\n",
       "      <th>3147</th>\n",
       "      <td>2014-06-27 00:00:00</td>\n",
       "      <td>229800.0</td>\n",
       "      <td>2.0</td>\n",
       "      <td>1.75</td>\n",
       "      <td>1110</td>\n",
       "      <td>1773</td>\n",
       "      <td>2.0</td>\n",
       "      <td>0</td>\n",
       "      <td>0</td>\n",
       "      <td>3</td>\n",
       "      <td>1110</td>\n",
       "      <td>0</td>\n",
       "      <td>2014</td>\n",
       "      <td>0</td>\n",
       "      <td>4217 Renton Ave S</td>\n",
       "      <td>Seattle</td>\n",
       "      <td>WA 98108</td>\n",
       "      <td>USA</td>\n",
       "    </tr>\n",
       "    <tr>\n",
       "      <th>2592</th>\n",
       "      <td>2014-06-23 00:00:00</td>\n",
       "      <td>430000.0</td>\n",
       "      <td>2.0</td>\n",
       "      <td>1.50</td>\n",
       "      <td>950</td>\n",
       "      <td>4625</td>\n",
       "      <td>1.0</td>\n",
       "      <td>0</td>\n",
       "      <td>0</td>\n",
       "      <td>4</td>\n",
       "      <td>950</td>\n",
       "      <td>0</td>\n",
       "      <td>1949</td>\n",
       "      <td>1985</td>\n",
       "      <td>8520 Interlake Ave N</td>\n",
       "      <td>Seattle</td>\n",
       "      <td>WA 98103</td>\n",
       "      <td>USA</td>\n",
       "    </tr>\n",
       "    <tr>\n",
       "      <th>2806</th>\n",
       "      <td>2014-06-24 00:00:00</td>\n",
       "      <td>295000.0</td>\n",
       "      <td>2.0</td>\n",
       "      <td>1.00</td>\n",
       "      <td>650</td>\n",
       "      <td>5400</td>\n",
       "      <td>1.0</td>\n",
       "      <td>0</td>\n",
       "      <td>0</td>\n",
       "      <td>3</td>\n",
       "      <td>650</td>\n",
       "      <td>0</td>\n",
       "      <td>1950</td>\n",
       "      <td>2005</td>\n",
       "      <td>1829 29th Ave</td>\n",
       "      <td>Seattle</td>\n",
       "      <td>WA 98122</td>\n",
       "      <td>USA</td>\n",
       "    </tr>\n",
       "    <tr>\n",
       "      <th>3828</th>\n",
       "      <td>2014-07-10 00:00:00</td>\n",
       "      <td>725000.0</td>\n",
       "      <td>2.0</td>\n",
       "      <td>1.75</td>\n",
       "      <td>1950</td>\n",
       "      <td>2719</td>\n",
       "      <td>1.0</td>\n",
       "      <td>0</td>\n",
       "      <td>0</td>\n",
       "      <td>5</td>\n",
       "      <td>1010</td>\n",
       "      <td>940</td>\n",
       "      <td>1919</td>\n",
       "      <td>1934</td>\n",
       "      <td>3609-3615 Whitman Ave N</td>\n",
       "      <td>Seattle</td>\n",
       "      <td>WA 98103</td>\n",
       "      <td>USA</td>\n",
       "    </tr>\n",
       "    <tr>\n",
       "      <th>743</th>\n",
       "      <td>2014-05-22 00:00:00</td>\n",
       "      <td>320000.0</td>\n",
       "      <td>3.0</td>\n",
       "      <td>2.25</td>\n",
       "      <td>998</td>\n",
       "      <td>844</td>\n",
       "      <td>2.0</td>\n",
       "      <td>0</td>\n",
       "      <td>0</td>\n",
       "      <td>3</td>\n",
       "      <td>798</td>\n",
       "      <td>200</td>\n",
       "      <td>2007</td>\n",
       "      <td>0</td>\n",
       "      <td>820 NW 95th St</td>\n",
       "      <td>Seattle</td>\n",
       "      <td>WA 98117</td>\n",
       "      <td>USA</td>\n",
       "    </tr>\n",
       "  </tbody>\n",
       "</table>\n",
       "</div>"
      ],
      "text/plain": [
       "                     date     price  bedrooms  bathrooms  sqft_living  \\\n",
       "3147  2014-06-27 00:00:00  229800.0       2.0       1.75         1110   \n",
       "2592  2014-06-23 00:00:00  430000.0       2.0       1.50          950   \n",
       "2806  2014-06-24 00:00:00  295000.0       2.0       1.00          650   \n",
       "3828  2014-07-10 00:00:00  725000.0       2.0       1.75         1950   \n",
       "743   2014-05-22 00:00:00  320000.0       3.0       2.25          998   \n",
       "\n",
       "      sqft_lot  floors  waterfront  view  condition  sqft_above  \\\n",
       "3147      1773     2.0           0     0          3        1110   \n",
       "2592      4625     1.0           0     0          4         950   \n",
       "2806      5400     1.0           0     0          3         650   \n",
       "3828      2719     1.0           0     0          5        1010   \n",
       "743        844     2.0           0     0          3         798   \n",
       "\n",
       "      sqft_basement  yr_built  yr_renovated                   street     city  \\\n",
       "3147              0      2014             0        4217 Renton Ave S  Seattle   \n",
       "2592              0      1949          1985     8520 Interlake Ave N  Seattle   \n",
       "2806              0      1950          2005            1829 29th Ave  Seattle   \n",
       "3828            940      1919          1934  3609-3615 Whitman Ave N  Seattle   \n",
       "743             200      2007             0           820 NW 95th St  Seattle   \n",
       "\n",
       "      statezip country  \n",
       "3147  WA 98108     USA  \n",
       "2592  WA 98103     USA  \n",
       "2806  WA 98122     USA  \n",
       "3828  WA 98103     USA  \n",
       "743   WA 98117     USA  "
      ]
     },
     "execution_count": 27,
     "metadata": {},
     "output_type": "execute_result"
    }
   ],
   "source": [
    "#import libraries\n",
    "from IPython.display import Markdown, display\n",
    "import pandas as pd\n",
    "import seaborn as sns\n",
    "import matplotlib.pyplot as plt\n",
    "import numpy as np\n",
    "\n",
    "#load csv, sett city colomn to show only Seattle houses. And take a small peak at the data to see what we can drop.\n",
    "df = pd.read_csv('c:\\\\projects\\\\Boston House Prices\\\\data\\\\USA-Housing-Dataset.csv')\n",
    "df = df[df['city'] == 'Seattle']\n",
    "df.sample(n=5)"
   ]
  },
  {
   "cell_type": "markdown",
   "id": "c888f499",
   "metadata": {},
   "source": [
    "## 🔍 Inspect Data\n",
    "\n",
    "Make sure there's no columns with 0 or NaN. Also check for duplicates.\n",
    "\n",
    "Also remove and entries without bedroom or bathrooms.\n",
    "\n",
    "Then we'll drop everything but 'Price' and 'City' and we'll do descriptive stats and distribution analysis on it."
   ]
  },
  {
   "cell_type": "code",
   "execution_count": 28,
   "id": "6bd380c1",
   "metadata": {},
   "outputs": [
    {
     "data": {
      "text/html": [
       "<div>\n",
       "<style scoped>\n",
       "    .dataframe tbody tr th:only-of-type {\n",
       "        vertical-align: middle;\n",
       "    }\n",
       "\n",
       "    .dataframe tbody tr th {\n",
       "        vertical-align: top;\n",
       "    }\n",
       "\n",
       "    .dataframe thead th {\n",
       "        text-align: right;\n",
       "    }\n",
       "</style>\n",
       "<table border=\"1\" class=\"dataframe\">\n",
       "  <thead>\n",
       "    <tr style=\"text-align: right;\">\n",
       "      <th></th>\n",
       "      <th>date</th>\n",
       "      <th>price</th>\n",
       "      <th>bedrooms</th>\n",
       "      <th>bathrooms</th>\n",
       "      <th>sqft_living</th>\n",
       "      <th>sqft_lot</th>\n",
       "      <th>floors</th>\n",
       "      <th>waterfront</th>\n",
       "      <th>view</th>\n",
       "      <th>condition</th>\n",
       "      <th>sqft_above</th>\n",
       "      <th>sqft_basement</th>\n",
       "      <th>yr_built</th>\n",
       "      <th>yr_renovated</th>\n",
       "      <th>street</th>\n",
       "      <th>city</th>\n",
       "      <th>statezip</th>\n",
       "      <th>country</th>\n",
       "    </tr>\n",
       "  </thead>\n",
       "  <tbody>\n",
       "  </tbody>\n",
       "</table>\n",
       "</div>"
      ],
      "text/plain": [
       "Empty DataFrame\n",
       "Columns: [date, price, bedrooms, bathrooms, sqft_living, sqft_lot, floors, waterfront, view, condition, sqft_above, sqft_basement, yr_built, yr_renovated, street, city, statezip, country]\n",
       "Index: []"
      ]
     },
     "execution_count": 28,
     "metadata": {},
     "output_type": "execute_result"
    }
   ],
   "source": [
    "#ensure no duplicates\n",
    "df[df.duplicated() == True]"
   ]
  },
  {
   "cell_type": "code",
   "execution_count": 29,
   "id": "56baf1e6",
   "metadata": {},
   "outputs": [
    {
     "name": "stdout",
     "output_type": "stream",
     "text": [
      "date             False\n",
      "price            False\n",
      "bedrooms         False\n",
      "bathrooms        False\n",
      "sqft_living      False\n",
      "sqft_lot         False\n",
      "floors           False\n",
      "waterfront        True\n",
      "view              True\n",
      "condition        False\n",
      "sqft_above       False\n",
      "sqft_basement    False\n",
      "yr_built         False\n",
      "yr_renovated     False\n",
      "street           False\n",
      "city             False\n",
      "statezip         False\n",
      "country          False\n",
      "dtype: bool\n",
      "date             False\n",
      "price            False\n",
      "bedrooms         False\n",
      "bathrooms        False\n",
      "sqft_living      False\n",
      "sqft_lot         False\n",
      "floors           False\n",
      "waterfront       False\n",
      "view             False\n",
      "condition        False\n",
      "sqft_above       False\n",
      "sqft_basement    False\n",
      "yr_built         False\n",
      "yr_renovated     False\n",
      "street           False\n",
      "city             False\n",
      "statezip         False\n",
      "country          False\n",
      "dtype: bool\n"
     ]
    }
   ],
   "source": [
    "#show if any entries are 0 or missing. use statements to change df so there are no 0 or missing entries. Left view and waterfront as '0' indicates a no for that category.\n",
    "df = df[df['bathrooms'] >= 1]\n",
    "df = df[ df['bathrooms'] >= 1]\n",
    "df = df[ df['price'] >= 1]\n",
    "df = df[ df['sqft_basement'] >= 1]\n",
    "df = df[ df['yr_renovated'] >= 1]\n",
    "print((df==0.0).any())\n",
    "print(df.isna().any())"
   ]
  },
  {
   "cell_type": "code",
   "execution_count": 30,
   "id": "bdfdb1a4",
   "metadata": {},
   "outputs": [
    {
     "data": {
      "text/html": [
       "<div>\n",
       "<style scoped>\n",
       "    .dataframe tbody tr th:only-of-type {\n",
       "        vertical-align: middle;\n",
       "    }\n",
       "\n",
       "    .dataframe tbody tr th {\n",
       "        vertical-align: top;\n",
       "    }\n",
       "\n",
       "    .dataframe thead th {\n",
       "        text-align: right;\n",
       "    }\n",
       "</style>\n",
       "<table border=\"1\" class=\"dataframe\">\n",
       "  <thead>\n",
       "    <tr style=\"text-align: right;\">\n",
       "      <th></th>\n",
       "      <th>price</th>\n",
       "    </tr>\n",
       "  </thead>\n",
       "  <tbody>\n",
       "    <tr>\n",
       "      <th>6</th>\n",
       "      <td>875000.0</td>\n",
       "    </tr>\n",
       "    <tr>\n",
       "      <th>15</th>\n",
       "      <td>490000.0</td>\n",
       "    </tr>\n",
       "    <tr>\n",
       "      <th>21</th>\n",
       "      <td>255000.0</td>\n",
       "    </tr>\n",
       "    <tr>\n",
       "      <th>27</th>\n",
       "      <td>582000.0</td>\n",
       "    </tr>\n",
       "    <tr>\n",
       "      <th>28</th>\n",
       "      <td>1315000.0</td>\n",
       "    </tr>\n",
       "  </tbody>\n",
       "</table>\n",
       "</div>"
      ],
      "text/plain": [
       "        price\n",
       "6    875000.0\n",
       "15   490000.0\n",
       "21   255000.0\n",
       "27   582000.0\n",
       "28  1315000.0"
      ]
     },
     "execution_count": 30,
     "metadata": {},
     "output_type": "execute_result"
    }
   ],
   "source": [
    "#drop columns and make sure it worked with .head()\n",
    "seattle_houses= df.drop(['date', 'bedrooms', 'bathrooms', 'sqft_living', 'sqft_lot', 'floors', 'waterfront', 'view', 'condition', 'sqft_above', 'sqft_basement', 'yr_built', 'yr_renovated', 'street', 'statezip', 'country', 'city'], axis=1)\n",
    "seattle_houses.head()"
   ]
  },
  {
   "cell_type": "markdown",
   "id": "7febb87b",
   "metadata": {},
   "source": [
    "## 📏 Descriptive Statistics\n",
    "\n",
    "I’ll calculate key summary statistics for the selected numeric variable (`SalePrice`):\n",
    "\n",
    "- Mean\n",
    "- Median\n",
    "- Mode\n",
    "- Minimum and maximum\n",
    "- Range\n",
    "- Variance and standard deviation\n",
    "- Skewness and kurtosis\n",
    "\n",
    "This shows me the central tendency, spread, and shape of the data.\n"
   ]
  },
  {
   "cell_type": "code",
   "execution_count": 31,
   "id": "1c17710b",
   "metadata": {},
   "outputs": [
    {
     "data": {
      "text/markdown": [
       "\n",
       "# 📊 Seattle Housing Price Summary\n",
       "\n",
       "**Mean:** $658,874.64  \n",
       "**Median:** $527,000.00  \n",
       "**Mode:** $450,000.00  \n",
       "**Min:** $135,333.33  \n",
       "**Max:** $12,899,000.00  \n",
       "**Range:** $12,763,666.67  \n",
       "**Variance:** $515,824,877,089.40  \n",
       "**Standard Deviation:** $718,209.49\n"
      ],
      "text/plain": [
       "<IPython.core.display.Markdown object>"
      ]
     },
     "metadata": {},
     "output_type": "display_data"
    }
   ],
   "source": [
    "#Use pandas to calculate summary stats\n",
    "mean = seattle_houses['price'].mean()\n",
    "median = seattle_houses['price'].median()\n",
    "mode = seattle_houses['price'].mode()\n",
    "max_value = seattle_houses['price'].max()\n",
    "min_value = seattle_houses['price'].min()\n",
    "price_range = max_value - min_value\n",
    "variance = seattle_houses['price'].var()\n",
    "standard_deviation = seattle_houses['price'].std()\n",
    "\n",
    "display(Markdown(f\"\"\"\n",
    "# 📊 Seattle Housing Price Summary\n",
    "\n",
    "**Mean:** ${mean:,.2f}  \n",
    "**Median:** ${median:,.2f}  \n",
    "**Mode:** ${mode.values[0]:,.2f}  \n",
    "**Min:** ${min_value:,.2f}  \n",
    "**Max:** ${max_value:,.2f}  \n",
    "**Range:** ${price_range:,.2f}  \n",
    "**Variance:** ${variance:,.2f}  \n",
    "**Standard Deviation:** ${standard_deviation:,.2f}\n",
    "\"\"\"))\n"
   ]
  },
  {
   "cell_type": "markdown",
   "id": "292562f8",
   "metadata": {},
   "source": [
    "### 🔍Insight\n",
    "\n",
    "As is common with housing prices, the data is skewed right due to luxury homes pushing the mean above the median.\n",
    "\n",
    "Now that we have summary statistics, I will find the absolute and relative difference between mean and median to see how skewed the data is.\\\n",
    "Along with this, I will calculate the skewness and kurtosis."
   ]
  },
  {
   "cell_type": "code",
   "execution_count": 32,
   "id": "d9bc12b0",
   "metadata": {},
   "outputs": [
    {
     "data": {
      "text/markdown": [
       "\n",
       "### 📊 Skewness and Kurtosis\n",
       "\n",
       "**Absolute Difference:** $131,874.64  \n",
       "**Relative Difference:** 20.02%  \n",
       "**Skewness:** 13.18  \n",
       "**Kurtosis:** 223.18  \n"
      ],
      "text/plain": [
       "<IPython.core.display.Markdown object>"
      ]
     },
     "metadata": {},
     "output_type": "display_data"
    }
   ],
   "source": [
    "absolute_difference = abs(mean - median)\n",
    "relative_difference = (absolute_difference / mean) * 100\n",
    "skewness = seattle_houses['price'].skew()\n",
    "kurtosis = (seattle_houses['price'].kurtosis() + 3)\n",
    "display(Markdown(f\"\"\"\n",
    "### 📊 Skewness and Kurtosis\n",
    "\n",
    "**Absolute Difference:** ${absolute_difference:,.2f}  \n",
    "**Relative Difference:** {relative_difference:,.2f}%  \n",
    "**Skewness:** {skewness:,.2f}  \n",
    "**Kurtosis:** {kurtosis:,.2f}  \n",
    "\"\"\"))\n"
   ]
  },
  {
   "cell_type": "markdown",
   "id": "4e356e82",
   "metadata": {},
   "source": [
    "As we can see, there is a large skew and kurtosis. Anything above 3 for kurtosis indicates a high skew, let alone 341."
   ]
  },
  {
   "cell_type": "markdown",
   "id": "39f2588d",
   "metadata": {},
   "source": [
    "## Visualize Raw Data 📈\n",
    "\n",
    "I will use a histogram to show distribution skew, and a boxplot to show outliers in this data set."
   ]
  },
  {
   "cell_type": "code",
   "execution_count": 33,
   "id": "a9419722",
   "metadata": {},
   "outputs": [
    {
     "data": {
      "text/plain": [
       "Text(0, 0.5, 'Frequency')"
      ]
     },
     "execution_count": 33,
     "metadata": {},
     "output_type": "execute_result"
    },
    {
     "data": {
      "image/png": "[encoded data removed]",
      "text/plain": [
       "<Figure size 640x480 with 1 Axes>"
      ]
     },
     "metadata": {},
     "output_type": "display_data"
    }
   ],
   "source": [
    "sns.histplot(seattle_houses['price'])\n",
    "plt.title(\"Distribution Of Seattle House Prices\")\n",
    "plt.xlabel(\"Price\")\n",
    "plt.ylabel(\"Frequency\")\n"
   ]
  },
  {
   "cell_type": "code",
   "execution_count": 34,
   "id": "2613ba64",
   "metadata": {},
   "outputs": [
    {
     "data": {
      "text/plain": [
       "Text(0, 0.5, 'Frequency')"
      ]
     },
     "execution_count": 34,
     "metadata": {},
     "output_type": "execute_result"
    },
    {
     "data": {
      "image/png": "[encoded data removed]",
      "text/plain": [
       "<Figure size 640x480 with 1 Axes>"
      ]
     },
     "metadata": {},
     "output_type": "display_data"
    }
   ],
   "source": [
    "sns.boxplot(seattle_houses['price'])\n",
    "plt.title(\"Box Plot Of Seattle House Prices\")\n",
    "plt.xlabel(\"Price\")\n",
    "plt.ylabel(\"Frequency\")\n"
   ]
  },
  {
   "cell_type": "markdown",
   "id": "cf76e4c1",
   "metadata": {},
   "source": [
    "## Why Normality Matters\n",
    "\n",
    "Certain statistical models assume the target variable is normally distributed. Large skewness and kurtosis can cause biased estimates or unreliable predictions.\\\n",
    "Even without plotting the raw data, it is obvious the data is heavily skewed right due to outliers. Upon graphing, the problem is evident. A $12.9m home is\\\n",
    "skewing the results.\n",
    "\n",
    "## 🔑 Key insights\n",
    "\n",
    "✅ Price data is NOT normally distributed.\n",
    "\n",
    "Heavy right skew & heavy tails mean the normal assumption doesn’t hold.\n",
    "\n",
    "We can't rely on models that assume normality of prices directly.\n",
    "\n",
    "✅ Mean is not robust here.\n",
    "\n",
    "When there’s extreme skew, the median is a better measure of central tendency than the mean.\n",
    "\n",
    "Use median when summarizing typical home prices.\n",
    "\n",
    "✅ Removing the outlier will greatly assist normality, and thus forming a model\n",
    "\n",
    "** OR **\n",
    "\n",
    "✅ Or log transorm the data\n",
    "\n",
    "It’s very common to apply a log transform to house prices to reduce skewness.\n",
    "\n",
    "Many predictive models (like linear regression) do better predicting log(price).\n",
    "\n",
    "## 📌 Game Plan\n",
    "\n",
    "Let's get rid of the outlier then we'll assess normality, and log transform if needed.\n",
    "\n",
    "We'll start with getting rid of the obvious outlier ($12.9m home)"
   ]
  },
  {
   "cell_type": "code",
   "execution_count": 35,
   "id": "c504b81d",
   "metadata": {},
   "outputs": [
    {
     "data": {
      "text/plain": [
       "price    2888000.0\n",
       "dtype: float64"
      ]
     },
     "execution_count": 35,
     "metadata": {},
     "output_type": "execute_result"
    }
   ],
   "source": [
    "#filter out outlier with less than statement.\n",
    "seattle_houses = seattle_houses[seattle_houses['price'] < 12000000]\n",
    "\n",
    "#test if this worked\n",
    "seattle_houses.max()"
   ]
  },
  {
   "cell_type": "markdown",
   "id": "4f01033f",
   "metadata": {},
   "source": [
    "I will calculate the same summary statistics from before to see how this effected the skew."
   ]
  },
  {
   "cell_type": "code",
   "execution_count": 36,
   "id": "14cb85b7",
   "metadata": {},
   "outputs": [
    {
     "data": {
      "text/markdown": [
       "\n",
       "# 📊 Seattle Housing Price Summary\n",
       "\n",
       "**Mean:** $627,082.10  \n",
       "**Median:** $527,000.00  \n",
       "**Mode:** $450,000.00  \n",
       "**Min:** $135,333.33  \n",
       "**Max:** $2,888,000.00  \n",
       "**Range:** $2,752,666.67  \n",
       "**Variance:** $125,996,781,725.15  \n",
       "**Standard Deviation:** $354,960.25\n"
      ],
      "text/plain": [
       "<IPython.core.display.Markdown object>"
      ]
     },
     "metadata": {},
     "output_type": "display_data"
    }
   ],
   "source": [
    "#Use pandas to calculate summary stats\n",
    "mean = seattle_houses['price'].mean()\n",
    "median = seattle_houses['price'].median()\n",
    "mode = seattle_houses['price'].mode()\n",
    "max_value = seattle_houses['price'].max()\n",
    "min_value = seattle_houses['price'].min()\n",
    "price_range = max_value - min_value\n",
    "variance = seattle_houses['price'].var()\n",
    "standard_deviation = seattle_houses['price'].std()\n",
    "\n",
    "display(Markdown(f\"\"\"\n",
    "# 📊 Seattle Housing Price Summary\n",
    "\n",
    "**Mean:** ${mean:,.2f}  \n",
    "**Median:** ${median:,.2f}  \n",
    "**Mode:** ${mode.values[0]:,.2f}  \n",
    "**Min:** ${min_value:,.2f}  \n",
    "**Max:** ${max_value:,.2f}  \n",
    "**Range:** ${price_range:,.2f}  \n",
    "**Variance:** ${variance:,.2f}  \n",
    "**Standard Deviation:** ${standard_deviation:,.2f}\n",
    "\"\"\"))\n"
   ]
  },
  {
   "cell_type": "code",
   "execution_count": 37,
   "id": "db949c20",
   "metadata": {},
   "outputs": [
    {
     "data": {
      "text/plain": [
       "Text(0, 0.5, 'Frequency')"
      ]
     },
     "execution_count": 37,
     "metadata": {},
     "output_type": "execute_result"
    },
    {
     "data": {
      "image/png": "[encoded data removed]",
      "text/plain": [
       "<Figure size 640x480 with 1 Axes>"
      ]
     },
     "metadata": {},
     "output_type": "display_data"
    }
   ],
   "source": [
    "sns.histplot(seattle_houses['price'])\n",
    "plt.title(\"Distribution Of Seattle House Prices\")\n",
    "plt.xlabel(\"Price\")\n",
    "plt.ylabel(\"Frequency\")\n"
   ]
  },
  {
   "cell_type": "code",
   "execution_count": 38,
   "id": "76b598c4",
   "metadata": {},
   "outputs": [
    {
     "data": {
      "text/plain": [
       "Text(0, 0.5, 'Frequency')"
      ]
     },
     "execution_count": 38,
     "metadata": {},
     "output_type": "execute_result"
    },
    {
     "data": {
      "image/png": "[encoded data removed]",
      "text/plain": [
       "<Figure size 640x480 with 1 Axes>"
      ]
     },
     "metadata": {},
     "output_type": "display_data"
    }
   ],
   "source": [
    "sns.boxplot(seattle_houses['price'])\n",
    "plt.title(\"Box Plot Of Seattle House Prices\")\n",
    "plt.xlabel(\"Price\")\n",
    "plt.ylabel(\"Frequency\")\n"
   ]
  },
  {
   "cell_type": "markdown",
   "id": "6114ce42",
   "metadata": {},
   "source": [
    "## 🔍 Insight\n",
    "\n",
    "The distribution after removing the outlier is more normal, however, still far from perfect.\\\n",
    "Let's add and graph a log transformed column to the data and see the summary stats, along with\\\n",
    "distribution plots."
   ]
  },
  {
   "cell_type": "code",
   "execution_count": 39,
   "id": "071d2cab",
   "metadata": {},
   "outputs": [
    {
     "data": {
      "text/html": [
       "<div>\n",
       "<style scoped>\n",
       "    .dataframe tbody tr th:only-of-type {\n",
       "        vertical-align: middle;\n",
       "    }\n",
       "\n",
       "    .dataframe tbody tr th {\n",
       "        vertical-align: top;\n",
       "    }\n",
       "\n",
       "    .dataframe thead th {\n",
       "        text-align: right;\n",
       "    }\n",
       "</style>\n",
       "<table border=\"1\" class=\"dataframe\">\n",
       "  <thead>\n",
       "    <tr style=\"text-align: right;\">\n",
       "      <th></th>\n",
       "      <th>price</th>\n",
       "      <th>log_transform_price</th>\n",
       "    </tr>\n",
       "  </thead>\n",
       "  <tbody>\n",
       "    <tr>\n",
       "      <th>6</th>\n",
       "      <td>875000.0</td>\n",
       "      <td>13.681979</td>\n",
       "    </tr>\n",
       "    <tr>\n",
       "      <th>15</th>\n",
       "      <td>490000.0</td>\n",
       "      <td>13.102161</td>\n",
       "    </tr>\n",
       "    <tr>\n",
       "      <th>21</th>\n",
       "      <td>255000.0</td>\n",
       "      <td>12.449019</td>\n",
       "    </tr>\n",
       "    <tr>\n",
       "      <th>27</th>\n",
       "      <td>582000.0</td>\n",
       "      <td>13.274226</td>\n",
       "    </tr>\n",
       "    <tr>\n",
       "      <th>28</th>\n",
       "      <td>1315000.0</td>\n",
       "      <td>14.089347</td>\n",
       "    </tr>\n",
       "  </tbody>\n",
       "</table>\n",
       "</div>"
      ],
      "text/plain": [
       "        price  log_transform_price\n",
       "6    875000.0            13.681979\n",
       "15   490000.0            13.102161\n",
       "21   255000.0            12.449019\n",
       "27   582000.0            13.274226\n",
       "28  1315000.0            14.089347"
      ]
     },
     "execution_count": 39,
     "metadata": {},
     "output_type": "execute_result"
    }
   ],
   "source": [
    "#Use numpy to create a log transform column\n",
    "seattle_houses['log_transform_price'] = np.log(seattle_houses['price'])\n",
    "seattle_houses.head()"
   ]
  },
  {
   "cell_type": "markdown",
   "id": "b173b612",
   "metadata": {},
   "source": [
    "Let's see the summary stats of the new log transformed column"
   ]
  },
  {
   "cell_type": "code",
   "execution_count": 40,
   "id": "f792369f",
   "metadata": {},
   "outputs": [
    {
     "data": {
      "text/markdown": [
       "\n",
       "# 📊 Seattle Housing Price Summary\n",
       "\n",
       "**Mean:** $13.23  \n",
       "**Median:** $13.17  \n",
       "**Mode:** $13.02  \n",
       "**Min:** $11.82  \n",
       "**Max:** $14.88  \n",
       "**Range:** $3.06  \n",
       "**Variance:** $0.22  \n",
       "**Standard Deviation:** $0.47\n"
      ],
      "text/plain": [
       "<IPython.core.display.Markdown object>"
      ]
     },
     "metadata": {},
     "output_type": "display_data"
    }
   ],
   "source": [
    "#Use pandas to calculate summary stats\n",
    "logmean = seattle_houses['log_transform_price'].mean()\n",
    "logmedian = seattle_houses['log_transform_price'].median()\n",
    "logmode = seattle_houses['log_transform_price'].mode()\n",
    "logmax_value = seattle_houses['log_transform_price'].max()\n",
    "logmin_value = seattle_houses['log_transform_price'].min()\n",
    "logprice_range = logmax_value - logmin_value\n",
    "logvariance = seattle_houses['log_transform_price'].var()\n",
    "logstandard_deviation = seattle_houses['log_transform_price'].std()\n",
    "\n",
    "display(Markdown(f\"\"\"\n",
    "# 📊 Seattle Housing Price Summary\n",
    "\n",
    "**Mean:** ${logmean:,.2f}  \n",
    "**Median:** ${logmedian:,.2f}  \n",
    "**Mode:** ${logmode.values[0]:,.2f}  \n",
    "**Min:** ${logmin_value:,.2f}  \n",
    "**Max:** ${logmax_value:,.2f}  \n",
    "**Range:** ${logprice_range:,.2f}  \n",
    "**Variance:** ${logvariance:,.2f}  \n",
    "**Standard Deviation:** ${logstandard_deviation:,.2f}\n",
    "\"\"\"))"
   ]
  },
  {
   "cell_type": "markdown",
   "id": "be22d599",
   "metadata": {},
   "source": [
    "## 📊 Skewness and Kurtosis of Log Transformation\n",
    "\n",
    "Now, the mean and median are alot closer. Let's see how close and compare the skewness and kurtosis to the raw data."
   ]
  },
  {
   "cell_type": "code",
   "execution_count": 41,
   "id": "67b0386b",
   "metadata": {},
   "outputs": [
    {
     "data": {
      "text/markdown": [
       "\n",
       "### 📊 Skewness and Kurtosis\n",
       "\n",
       "**Absolute Difference:** $0.05  \n",
       "**Relative Difference:** 0.41%  \n",
       "**Skewness:** 0.48  \n",
       "**Kurtosis:** 3.55  \n"
      ],
      "text/plain": [
       "<IPython.core.display.Markdown object>"
      ]
     },
     "metadata": {},
     "output_type": "display_data"
    }
   ],
   "source": [
    "#using the same formulas from before to find difference, skewness and kurtosis\n",
    "logabsolute_difference = abs(logmean - logmedian)\n",
    "logrelative_difference = (logabsolute_difference / logmean) * 100\n",
    "logskewness = seattle_houses['log_transform_price'].skew()\n",
    "logkurtosis = (seattle_houses['log_transform_price'].kurtosis() + 3)\n",
    "display(Markdown(f\"\"\"\n",
    "### 📊 Skewness and Kurtosis\n",
    "\n",
    "**Absolute Difference:** ${logabsolute_difference:,.2f}  \n",
    "**Relative Difference:** {logrelative_difference:,.2f}%  \n",
    "**Skewness:** {logskewness:,.2f}  \n",
    "**Kurtosis:** {logkurtosis:,.2f}  \n",
    "\"\"\"))\n"
   ]
  },
  {
   "cell_type": "markdown",
   "id": "9428f538",
   "metadata": {},
   "source": [
    "### 🔍 Assessment of Log-Transformed Prices\n",
    "\n",
    "After applying the log transformation to the house price data, we evaluated the distribution using key statistical measures:\n",
    "\n",
    "- **Absolute Difference (Mean vs. Median):** 0.03  \n",
    "  This very small difference indicates that the mean and median are nearly identical, suggesting a symmetric distribution.\n",
    "\n",
    "- **Relative Difference:** 0.21%  \n",
    "  A low relative difference further confirms the balanced nature of the distribution.\n",
    "\n",
    "- **Skewness:** 0.26  \n",
    "  Skewness close to zero (within the range -0.5 to 0.5) indicates low skew and a fairly symmetric distribution.\n",
    "\n",
    "- **Kurtosis:** 3.65  \n",
    "  Kurtosis near 3 aligns with the kurtosis of a normal distribution, implying that the tails of the distribution are similar to normal. A slightly higher value suggests moderately heavier tails, which is common for housing data.\n",
    "\n",
    "**Conclusion:**  \n",
    "The log transformation has effectively normalized the price distribution, reducing skewness and stabilizing variance. This makes the data more suitable for modeling approaches, such as linear regression, that assume approximate normality of the target variable.\n"
   ]
  },
  {
   "cell_type": "code",
   "execution_count": 42,
   "id": "308b3a65",
   "metadata": {},
   "outputs": [
    {
     "data": {
      "text/plain": [
       "Text(0, 0.5, 'Frequency')"
      ]
     },
     "execution_count": 42,
     "metadata": {},
     "output_type": "execute_result"
    },
    {
     "data": {
      "image/png": "[encoded data removed]",
      "text/plain": [
       "<Figure size 640x480 with 1 Axes>"
      ]
     },
     "metadata": {},
     "output_type": "display_data"
    }
   ],
   "source": [
    "sns.histplot(seattle_houses['log_transform_price'])\n",
    "plt.title(\"Distribution Of Seattle House Prices\")\n",
    "plt.xlabel(\"Price\")\n",
    "plt.ylabel(\"Frequency\")"
   ]
  },
  {
   "cell_type": "code",
   "execution_count": 43,
   "id": "b21ef766",
   "metadata": {},
   "outputs": [
    {
     "data": {
      "text/plain": [
       "Text(0, 0.5, 'Frequency')"
      ]
     },
     "execution_count": 43,
     "metadata": {},
     "output_type": "execute_result"
    },
    {
     "data": {
      "image/png": "[encoded data removed]",
      "text/plain": [
       "<Figure size 640x480 with 1 Axes>"
      ]
     },
     "metadata": {},
     "output_type": "display_data"
    }
   ],
   "source": [
    "sns.boxplot(seattle_houses['log_transform_price'])\n",
    "plt.title(\"Box Plot Of Seattle House Prices\")\n",
    "plt.xlabel(\"Price\")\n",
    "plt.ylabel(\"Frequency\")\n"
   ]
  },
  {
   "cell_type": "markdown",
   "id": "86154ddf",
   "metadata": {},
   "source": [
    "### Outlier Removal\n",
    "\n",
    "During exploratory data analysis, we identified an extreme outlier in the housing price data: a listing priced at \\$12.9 million. This value was significantly higher than the next largest price of approximately \\$2.8 million, indicating it is an anomalous data point that could disproportionately influence our analysis and modeling.\n",
    "\n",
    "To ensure more reliable and representative statistical insights, I decided to remove this extreme outlier before proceeding with further analysis, including the log transformation of prices. Removing this outlier helps stabilize the distribution and prevents distortion in model training and evaluation.\n",
    "\n",
    "This step improves the robustness of our models and aligns with common practices in handling real-world data where rare, extreme values may result from errors or exceptional cases.\n"
   ]
  },
  {
   "cell_type": "markdown",
   "id": "f6c46ee3",
   "metadata": {},
   "source": [
    "### 📝 Making a regression model to predict house prices \n",
    "\n",
    "First, I'll remove the $12.9m house, then I'll make a list of the features and see which correlate\\\n",
    "linearly to the price the most. These features will be used to train the model.\n",
    "\n",
    "I'll be using sklearn.model_selection to train this model. However, please also check out my project\\\n",
    "'Building A Regression Model From Scratch', also on my GitHub account."
   ]
  },
  {
   "cell_type": "code",
   "execution_count": 44,
   "id": "aeccc3d5",
   "metadata": {},
   "outputs": [
    {
     "data": {
      "text/html": [
       "<div>\n",
       "<style scoped>\n",
       "    .dataframe tbody tr th:only-of-type {\n",
       "        vertical-align: middle;\n",
       "    }\n",
       "\n",
       "    .dataframe tbody tr th {\n",
       "        vertical-align: top;\n",
       "    }\n",
       "\n",
       "    .dataframe thead th {\n",
       "        text-align: right;\n",
       "    }\n",
       "</style>\n",
       "<table border=\"1\" class=\"dataframe\">\n",
       "  <thead>\n",
       "    <tr style=\"text-align: right;\">\n",
       "      <th></th>\n",
       "      <th>date</th>\n",
       "      <th>price</th>\n",
       "      <th>bedrooms</th>\n",
       "      <th>bathrooms</th>\n",
       "      <th>sqft_living</th>\n",
       "      <th>sqft_lot</th>\n",
       "      <th>floors</th>\n",
       "      <th>waterfront</th>\n",
       "      <th>view</th>\n",
       "      <th>condition</th>\n",
       "      <th>sqft_above</th>\n",
       "      <th>sqft_basement</th>\n",
       "      <th>yr_built</th>\n",
       "      <th>yr_renovated</th>\n",
       "      <th>street</th>\n",
       "      <th>city</th>\n",
       "      <th>statezip</th>\n",
       "      <th>country</th>\n",
       "      <th>log_transform_price</th>\n",
       "    </tr>\n",
       "  </thead>\n",
       "  <tbody>\n",
       "    <tr>\n",
       "      <th>6</th>\n",
       "      <td>2014-05-10 00:00:00</td>\n",
       "      <td>875000.0</td>\n",
       "      <td>4.0</td>\n",
       "      <td>2.00</td>\n",
       "      <td>2520</td>\n",
       "      <td>6000</td>\n",
       "      <td>1.0</td>\n",
       "      <td>0</td>\n",
       "      <td>0</td>\n",
       "      <td>3</td>\n",
       "      <td>1400</td>\n",
       "      <td>1120</td>\n",
       "      <td>1921</td>\n",
       "      <td>2007</td>\n",
       "      <td>6521 Fremont Ave N</td>\n",
       "      <td>Seattle</td>\n",
       "      <td>98103</td>\n",
       "      <td>USA</td>\n",
       "      <td>13.681979</td>\n",
       "    </tr>\n",
       "    <tr>\n",
       "      <th>15</th>\n",
       "      <td>2014-05-12 00:00:00</td>\n",
       "      <td>490000.0</td>\n",
       "      <td>2.0</td>\n",
       "      <td>2.50</td>\n",
       "      <td>1230</td>\n",
       "      <td>1391</td>\n",
       "      <td>2.0</td>\n",
       "      <td>0</td>\n",
       "      <td>0</td>\n",
       "      <td>3</td>\n",
       "      <td>870</td>\n",
       "      <td>360</td>\n",
       "      <td>2004</td>\n",
       "      <td>2003</td>\n",
       "      <td>106 24th Ave E</td>\n",
       "      <td>Seattle</td>\n",
       "      <td>98112</td>\n",
       "      <td>USA</td>\n",
       "      <td>13.102161</td>\n",
       "    </tr>\n",
       "    <tr>\n",
       "      <th>21</th>\n",
       "      <td>2014-05-12 00:00:00</td>\n",
       "      <td>255000.0</td>\n",
       "      <td>2.0</td>\n",
       "      <td>1.00</td>\n",
       "      <td>1220</td>\n",
       "      <td>2500</td>\n",
       "      <td>1.0</td>\n",
       "      <td>0</td>\n",
       "      <td>0</td>\n",
       "      <td>3</td>\n",
       "      <td>770</td>\n",
       "      <td>450</td>\n",
       "      <td>1910</td>\n",
       "      <td>2006</td>\n",
       "      <td>3017 SW Hinds St</td>\n",
       "      <td>Seattle</td>\n",
       "      <td>98126</td>\n",
       "      <td>USA</td>\n",
       "      <td>12.449019</td>\n",
       "    </tr>\n",
       "    <tr>\n",
       "      <th>27</th>\n",
       "      <td>2014-05-12 00:00:00</td>\n",
       "      <td>582000.0</td>\n",
       "      <td>4.0</td>\n",
       "      <td>1.75</td>\n",
       "      <td>2120</td>\n",
       "      <td>4650</td>\n",
       "      <td>1.0</td>\n",
       "      <td>0</td>\n",
       "      <td>1</td>\n",
       "      <td>3</td>\n",
       "      <td>1190</td>\n",
       "      <td>930</td>\n",
       "      <td>1951</td>\n",
       "      <td>1994</td>\n",
       "      <td>9214 Cyrus Ave NW</td>\n",
       "      <td>Seattle</td>\n",
       "      <td>98117</td>\n",
       "      <td>USA</td>\n",
       "      <td>13.274226</td>\n",
       "    </tr>\n",
       "    <tr>\n",
       "      <th>28</th>\n",
       "      <td>2014-05-12 00:00:00</td>\n",
       "      <td>1315000.0</td>\n",
       "      <td>4.0</td>\n",
       "      <td>3.50</td>\n",
       "      <td>3460</td>\n",
       "      <td>3997</td>\n",
       "      <td>2.0</td>\n",
       "      <td>0</td>\n",
       "      <td>0</td>\n",
       "      <td>3</td>\n",
       "      <td>2560</td>\n",
       "      <td>900</td>\n",
       "      <td>2004</td>\n",
       "      <td>2003</td>\n",
       "      <td>2346 N 59th St</td>\n",
       "      <td>Seattle</td>\n",
       "      <td>98103</td>\n",
       "      <td>USA</td>\n",
       "      <td>14.089347</td>\n",
       "    </tr>\n",
       "  </tbody>\n",
       "</table>\n",
       "</div>"
      ],
      "text/plain": [
       "                   date      price  bedrooms  bathrooms  sqft_living  \\\n",
       "6   2014-05-10 00:00:00   875000.0       4.0       2.00         2520   \n",
       "15  2014-05-12 00:00:00   490000.0       2.0       2.50         1230   \n",
       "21  2014-05-12 00:00:00   255000.0       2.0       1.00         1220   \n",
       "27  2014-05-12 00:00:00   582000.0       4.0       1.75         2120   \n",
       "28  2014-05-12 00:00:00  1315000.0       4.0       3.50         3460   \n",
       "\n",
       "    sqft_lot  floors  waterfront  view  condition  sqft_above  sqft_basement  \\\n",
       "6       6000     1.0           0     0          3        1400           1120   \n",
       "15      1391     2.0           0     0          3         870            360   \n",
       "21      2500     1.0           0     0          3         770            450   \n",
       "27      4650     1.0           0     1          3        1190            930   \n",
       "28      3997     2.0           0     0          3        2560            900   \n",
       "\n",
       "    yr_built  yr_renovated              street     city  statezip country  \\\n",
       "6       1921          2007  6521 Fremont Ave N  Seattle     98103     USA   \n",
       "15      2004          2003      106 24th Ave E  Seattle     98112     USA   \n",
       "21      1910          2006    3017 SW Hinds St  Seattle     98126     USA   \n",
       "27      1951          1994   9214 Cyrus Ave NW  Seattle     98117     USA   \n",
       "28      2004          2003      2346 N 59th St  Seattle     98103     USA   \n",
       "\n",
       "    log_transform_price  \n",
       "6             13.681979  \n",
       "15            13.102161  \n",
       "21            12.449019  \n",
       "27            13.274226  \n",
       "28            14.089347  "
      ]
     },
     "execution_count": 44,
     "metadata": {},
     "output_type": "execute_result"
    }
   ],
   "source": [
    "#remove unneeded columns and refine to seattle houses like before and remove the zero values and $12.9m outlier\n",
    "\n",
    "df= df[df['city'] == 'Seattle']\n",
    "#df= df.drop(['sqft_basement','sqft_above','date', 'waterfront', 'view', 'yr_renovated', 'street', 'statezip', 'country', 'city', 'condition'], axis=1)\n",
    "df = df[df['price'] > 0]\n",
    "df = df[df['price'] < 12000000]\n",
    "\n",
    "#add log transform column like before\n",
    "df['log_transform_price'] = np.log(df['price'])\n",
    "\n",
    "#use str.split() on statezip column and convert to int for sklearn to use later on\n",
    "df['statezip'] = df['statezip'].str.split(' ').str.get(1).astype(int)\n",
    "df.head()"
   ]
  },
  {
   "cell_type": "code",
   "execution_count": 45,
   "id": "7daa0829",
   "metadata": {},
   "outputs": [
    {
     "data": {
      "text/plain": [
       "<Axes: xlabel='yr_built', ylabel='log_transform_price'>"
      ]
     },
     "execution_count": 45,
     "metadata": {},
     "output_type": "execute_result"
    },
    {
     "data": {
      "image/png": "[encoded data removed]",
      "text/plain": [
       "<Figure size 500x500 with 1 Axes>"
      ]
     },
     "metadata": {},
     "output_type": "display_data"
    },
    {
     "data": {
      "image/png": "[encoded data removed]",
      "text/plain": [
       "<Figure size 500x500 with 1 Axes>"
      ]
     },
     "metadata": {},
     "output_type": "display_data"
    },
    {
     "data": {
      "image/png": "[encoded data removed]",
      "text/plain": [
       "<Figure size 500x500 with 1 Axes>"
      ]
     },
     "metadata": {},
     "output_type": "display_data"
    },
    {
     "data": {
      "image/png": "[encoded data removed]",
      "text/plain": [
       "<Figure size 500x500 with 1 Axes>"
      ]
     },
     "metadata": {},
     "output_type": "display_data"
    },
    {
     "data": {
      "image/png": "[encoded data removed]",
      "text/plain": [
       "<Figure size 500x500 with 1 Axes>"
      ]
     },
     "metadata": {},
     "output_type": "display_data"
    },
    {
     "data": {
      "image/png": "[encoded data removed]",
      "text/plain": [
       "<Figure size 500x500 with 1 Axes>"
      ]
     },
     "metadata": {},
     "output_type": "display_data"
    },
    {
     "data": {
      "image/png": "[encoded data removed]",
      "text/plain": [
       "<Figure size 500x500 with 1 Axes>"
      ]
     },
     "metadata": {},
     "output_type": "display_data"
    },
    {
     "data": {
      "image/png": "[encoded data removed]",
      "text/plain": [
       "<Figure size 500x500 with 1 Axes>"
      ]
     },
     "metadata": {},
     "output_type": "display_data"
    },
    {
     "data": {
      "image/png": "[encoded data removed]",
      "text/plain": [
       "<Figure size 500x500 with 1 Axes>"
      ]
     },
     "metadata": {},
     "output_type": "display_data"
    },
    {
     "data": {
      "image/png": "[encoded data removed]",
      "text/plain": [
       "<Figure size 500x500 with 1 Axes>"
      ]
     },
     "metadata": {},
     "output_type": "display_data"
    },
    {
     "data": {
      "image/png": "[encoded data removed]",
      "text/plain": [
       "<Figure size 500x500 with 1 Axes>"
      ]
     },
     "metadata": {},
     "output_type": "display_data"
    },
    {
     "data": {
      "image/png": "[encoded data removed]",
      "text/plain": [
       "<Figure size 500x500 with 1 Axes>"
      ]
     },
     "metadata": {},
     "output_type": "display_data"
    },
    {
     "data": {
      "image/png": "[encoded data removed]",
      "text/plain": [
       "<Figure size 500x500 with 1 Axes>"
      ]
     },
     "metadata": {},
     "output_type": "display_data"
    },
    {
     "data": {
      "image/png": "[encoded data removed]",
      "text/plain": [
       "<Figure size 500x500 with 1 Axes>"
      ]
     },
     "metadata": {},
     "output_type": "display_data"
    }
   ],
   "source": [
    "#lets graph these features to see if there's a linear trend\n",
    "features = ['sqft_basement','sqft_above', 'waterfront', 'view', 'yr_renovated', 'street', 'country', 'city', 'condition','bedrooms', 'bathrooms', 'sqft_living', 'sqft_lot', 'yr_built']\n",
    "for feature in features:\n",
    "    sns.displot(\n",
    "        data=df,\n",
    "        x=feature,\n",
    "        y='log_transform_price'\n",
    "    )\n",
    "#sort statezips by price to show linear trend with location\n",
    "zip_order = (df.groupby('statezip')['log_transform_price'].mean().sort_values().index)\n",
    "sns.boxplot(\n",
    "    data=df,\n",
    "    x='statezip',\n",
    "    y = 'log_transform_price',\n",
    "    order=zip_order\n",
    ")\n",
    "\n"
   ]
  },
  {
   "cell_type": "markdown",
   "id": "38ed7255",
   "metadata": {},
   "source": [
    "## 🔍 Insight\n",
    "\n",
    "We can see the most biggest linear trends from:\\\n",
    "-Square foot lot\\\n",
    "-Square foot basement\\\n",
    "-Square foot above\\\n",
    "-Square foot living\\\n",
    "-Bedrooms\\\n",
    "-Bathrooms\\\n",
    "-Year Built\\\n",
    "-Statezip\n",
    "\n",
    "I will use these to train the model as they a strong linear trend with the price."
   ]
  },
  {
   "cell_type": "code",
   "execution_count": 46,
   "id": "de40d367",
   "metadata": {},
   "outputs": [],
   "source": [
    "#set x and y values\n",
    "X = df[['sqft_lot','bedrooms', 'bathrooms', 'sqft_living', 'yr_built','sqft_basement', 'sqft_above', 'statezip']]\n",
    "y = df['log_transform_price']"
   ]
  },
  {
   "cell_type": "code",
   "execution_count": 47,
   "id": "7d7d020c",
   "metadata": {},
   "outputs": [],
   "source": [
    "#import sklearn to train model\n",
    "from sklearn.model_selection import train_test_split\n",
    "from sklearn.linear_model import LinearRegression"
   ]
  },
  {
   "cell_type": "code",
   "execution_count": 48,
   "id": "066a5224",
   "metadata": {},
   "outputs": [],
   "source": [
    "X_train, X_test, y_train, y_test =train_test_split(X, y, test_size=0.2, random_state=42)"
   ]
  },
  {
   "cell_type": "code",
   "execution_count": 49,
   "id": "dd937027",
   "metadata": {},
   "outputs": [
    {
     "data": {
      "text/html": [
       "<style>#sk-container-id-2 {\n",
       "  /* Definition of color scheme common for light and dark mode */\n",
       "  --sklearn-color-text: #000;\n",
       "  --sklearn-color-text-muted: #666;\n",
       "  --sklearn-color-line: gray;\n",
       "  /* Definition of color scheme for unfitted estimators */\n",
       "  --sklearn-color-unfitted-level-0: #fff5e6;\n",
       "  --sklearn-color-unfitted-level-1: #f6e4d2;\n",
       "  --sklearn-color-unfitted-level-2: #ffe0b3;\n",
       "  --sklearn-color-unfitted-level-3: chocolate;\n",
       "  /* Definition of color scheme for fitted estimators */\n",
       "  --sklearn-color-fitted-level-0: #f0f8ff;\n",
       "  --sklearn-color-fitted-level-1: #d4ebff;\n",
       "  --sklearn-color-fitted-level-2: #b3dbfd;\n",
       "  --sklearn-color-fitted-level-3: cornflowerblue;\n",
       "\n",
       "  /* Specific color for light theme */\n",
       "  --sklearn-color-text-on-default-background: var(--sg-text-color, var(--theme-code-foreground, var(--jp-content-font-color1, black)));\n",
       "  --sklearn-color-background: var(--sg-background-color, var(--theme-background, var(--jp-layout-color0, white)));\n",
       "  --sklearn-color-border-box: var(--sg-text-color, var(--theme-code-foreground, var(--jp-content-font-color1, black)));\n",
       "  --sklearn-color-icon: #696969;\n",
       "\n",
       "  @media (prefers-color-scheme: dark) {\n",
       "    /* Redefinition of color scheme for dark theme */\n",
       "    --sklearn-color-text-on-default-background: var(--sg-text-color, var(--theme-code-foreground, var(--jp-content-font-color1, white)));\n",
       "    --sklearn-color-background: var(--sg-background-color, var(--theme-background, var(--jp-layout-color0, #111)));\n",
       "    --sklearn-color-border-box: var(--sg-text-color, var(--theme-code-foreground, var(--jp-content-font-color1, white)));\n",
       "    --sklearn-color-icon: #878787;\n",
       "  }\n",
       "}\n",
       "\n",
       "#sk-container-id-2 {\n",
       "  color: var(--sklearn-color-text);\n",
       "}\n",
       "\n",
       "#sk-container-id-2 pre {\n",
       "  padding: 0;\n",
       "}\n",
       "\n",
       "#sk-container-id-2 input.sk-hidden--visually {\n",
       "  border: 0;\n",
       "  clip: rect(1px 1px 1px 1px);\n",
       "  clip: rect(1px, 1px, 1px, 1px);\n",
       "  height: 1px;\n",
       "  margin: -1px;\n",
       "  overflow: hidden;\n",
       "  padding: 0;\n",
       "  position: absolute;\n",
       "  width: 1px;\n",
       "}\n",
       "\n",
       "#sk-container-id-2 div.sk-dashed-wrapped {\n",
       "  border: 1px dashed var(--sklearn-color-line);\n",
       "  margin: 0 0.4em 0.5em 0.4em;\n",
       "  box-sizing: border-box;\n",
       "  padding-bottom: 0.4em;\n",
       "  background-color: var(--sklearn-color-background);\n",
       "}\n",
       "\n",
       "#sk-container-id-2 div.sk-container {\n",
       "  /* jupyter's `normalize.less` sets `[hidden] { display: none; }`\n",
       "     but bootstrap.min.css set `[hidden] { display: none !important; }`\n",
       "     so we also need the `!important` here to be able to override the\n",
       "     default hidden behavior on the sphinx rendered scikit-learn.org.\n",
       "     See: https://github.com/scikit-learn/scikit-learn/issues/21755 */\n",
       "  display: inline-block !important;\n",
       "  position: relative;\n",
       "}\n",
       "\n",
       "#sk-container-id-2 div.sk-text-repr-fallback {\n",
       "  display: none;\n",
       "}\n",
       "\n",
       "div.sk-parallel-item,\n",
       "div.sk-serial,\n",
       "div.sk-item {\n",
       "  /* draw centered vertical line to link estimators */\n",
       "  background-image: linear-gradient(var(--sklearn-color-text-on-default-background), var(--sklearn-color-text-on-default-background));\n",
       "  background-size: 2px 100%;\n",
       "  background-repeat: no-repeat;\n",
       "  background-position: center center;\n",
       "}\n",
       "\n",
       "/* Parallel-specific style estimator block */\n",
       "\n",
       "#sk-container-id-2 div.sk-parallel-item::after {\n",
       "  content: \"\";\n",
       "  width: 100%;\n",
       "  border-bottom: 2px solid var(--sklearn-color-text-on-default-background);\n",
       "  flex-grow: 1;\n",
       "}\n",
       "\n",
       "#sk-container-id-2 div.sk-parallel {\n",
       "  display: flex;\n",
       "  align-items: stretch;\n",
       "  justify-content: center;\n",
       "  background-color: var(--sklearn-color-background);\n",
       "  position: relative;\n",
       "}\n",
       "\n",
       "#sk-container-id-2 div.sk-parallel-item {\n",
       "  display: flex;\n",
       "  flex-direction: column;\n",
       "}\n",
       "\n",
       "#sk-container-id-2 div.sk-parallel-item:first-child::after {\n",
       "  align-self: flex-end;\n",
       "  width: 50%;\n",
       "}\n",
       "\n",
       "#sk-container-id-2 div.sk-parallel-item:last-child::after {\n",
       "  align-self: flex-start;\n",
       "  width: 50%;\n",
       "}\n",
       "\n",
       "#sk-container-id-2 div.sk-parallel-item:only-child::after {\n",
       "  width: 0;\n",
       "}\n",
       "\n",
       "/* Serial-specific style estimator block */\n",
       "\n",
       "#sk-container-id-2 div.sk-serial {\n",
       "  display: flex;\n",
       "  flex-direction: column;\n",
       "  align-items: center;\n",
       "  background-color: var(--sklearn-color-background);\n",
       "  padding-right: 1em;\n",
       "  padding-left: 1em;\n",
       "}\n",
       "\n",
       "\n",
       "/* Toggleable style: style used for estimator/Pipeline/ColumnTransformer box that is\n",
       "clickable and can be expanded/collapsed.\n",
       "- Pipeline and ColumnTransformer use this feature and define the default style\n",
       "- Estimators will overwrite some part of the style using the `sk-estimator` class\n",
       "*/\n",
       "\n",
       "/* Pipeline and ColumnTransformer style (default) */\n",
       "\n",
       "#sk-container-id-2 div.sk-toggleable {\n",
       "  /* Default theme specific background. It is overwritten whether we have a\n",
       "  specific estimator or a Pipeline/ColumnTransformer */\n",
       "  background-color: var(--sklearn-color-background);\n",
       "}\n",
       "\n",
       "/* Toggleable label */\n",
       "#sk-container-id-2 label.sk-toggleable__label {\n",
       "  cursor: pointer;\n",
       "  display: flex;\n",
       "  width: 100%;\n",
       "  margin-bottom: 0;\n",
       "  padding: 0.5em;\n",
       "  box-sizing: border-box;\n",
       "  text-align: center;\n",
       "  align-items: start;\n",
       "  justify-content: space-between;\n",
       "  gap: 0.5em;\n",
       "}\n",
       "\n",
       "#sk-container-id-2 label.sk-toggleable__label .caption {\n",
       "  font-size: 0.6rem;\n",
       "  font-weight: lighter;\n",
       "  color: var(--sklearn-color-text-muted);\n",
       "}\n",
       "\n",
       "#sk-container-id-2 label.sk-toggleable__label-arrow:before {\n",
       "  /* Arrow on the left of the label */\n",
       "  content: \"▸\";\n",
       "  float: left;\n",
       "  margin-right: 0.25em;\n",
       "  color: var(--sklearn-color-icon);\n",
       "}\n",
       "\n",
       "#sk-container-id-2 label.sk-toggleable__label-arrow:hover:before {\n",
       "  color: var(--sklearn-color-text);\n",
       "}\n",
       "\n",
       "/* Toggleable content - dropdown */\n",
       "\n",
       "#sk-container-id-2 div.sk-toggleable__content {\n",
       "  display: none;\n",
       "  text-align: left;\n",
       "  /* unfitted */\n",
       "  background-color: var(--sklearn-color-unfitted-level-0);\n",
       "}\n",
       "\n",
       "#sk-container-id-2 div.sk-toggleable__content.fitted {\n",
       "  /* fitted */\n",
       "  background-color: var(--sklearn-color-fitted-level-0);\n",
       "}\n",
       "\n",
       "#sk-container-id-2 div.sk-toggleable__content pre {\n",
       "  margin: 0.2em;\n",
       "  border-radius: 0.25em;\n",
       "  color: var(--sklearn-color-text);\n",
       "  /* unfitted */\n",
       "  background-color: var(--sklearn-color-unfitted-level-0);\n",
       "}\n",
       "\n",
       "#sk-container-id-2 div.sk-toggleable__content.fitted pre {\n",
       "  /* unfitted */\n",
       "  background-color: var(--sklearn-color-fitted-level-0);\n",
       "}\n",
       "\n",
       "#sk-container-id-2 input.sk-toggleable__control:checked~div.sk-toggleable__content {\n",
       "  /* Expand drop-down */\n",
       "  display: block;\n",
       "  width: 100%;\n",
       "  overflow: visible;\n",
       "}\n",
       "\n",
       "#sk-container-id-2 input.sk-toggleable__control:checked~label.sk-toggleable__label-arrow:before {\n",
       "  content: \"▾\";\n",
       "}\n",
       "\n",
       "/* Pipeline/ColumnTransformer-specific style */\n",
       "\n",
       "#sk-container-id-2 div.sk-label input.sk-toggleable__control:checked~label.sk-toggleable__label {\n",
       "  color: var(--sklearn-color-text);\n",
       "  background-color: var(--sklearn-color-unfitted-level-2);\n",
       "}\n",
       "\n",
       "#sk-container-id-2 div.sk-label.fitted input.sk-toggleable__control:checked~label.sk-toggleable__label {\n",
       "  background-color: var(--sklearn-color-fitted-level-2);\n",
       "}\n",
       "\n",
       "/* Estimator-specific style */\n",
       "\n",
       "/* Colorize estimator box */\n",
       "#sk-container-id-2 div.sk-estimator input.sk-toggleable__control:checked~label.sk-toggleable__label {\n",
       "  /* unfitted */\n",
       "  background-color: var(--sklearn-color-unfitted-level-2);\n",
       "}\n",
       "\n",
       "#sk-container-id-2 div.sk-estimator.fitted input.sk-toggleable__control:checked~label.sk-toggleable__label {\n",
       "  /* fitted */\n",
       "  background-color: var(--sklearn-color-fitted-level-2);\n",
       "}\n",
       "\n",
       "#sk-container-id-2 div.sk-label label.sk-toggleable__label,\n",
       "#sk-container-id-2 div.sk-label label {\n",
       "  /* The background is the default theme color */\n",
       "  color: var(--sklearn-color-text-on-default-background);\n",
       "}\n",
       "\n",
       "/* On hover, darken the color of the background */\n",
       "#sk-container-id-2 div.sk-label:hover label.sk-toggleable__label {\n",
       "  color: var(--sklearn-color-text);\n",
       "  background-color: var(--sklearn-color-unfitted-level-2);\n",
       "}\n",
       "\n",
       "/* Label box, darken color on hover, fitted */\n",
       "#sk-container-id-2 div.sk-label.fitted:hover label.sk-toggleable__label.fitted {\n",
       "  color: var(--sklearn-color-text);\n",
       "  background-color: var(--sklearn-color-fitted-level-2);\n",
       "}\n",
       "\n",
       "/* Estimator label */\n",
       "\n",
       "#sk-container-id-2 div.sk-label label {\n",
       "  font-family: monospace;\n",
       "  font-weight: bold;\n",
       "  display: inline-block;\n",
       "  line-height: 1.2em;\n",
       "}\n",
       "\n",
       "#sk-container-id-2 div.sk-label-container {\n",
       "  text-align: center;\n",
       "}\n",
       "\n",
       "/* Estimator-specific */\n",
       "#sk-container-id-2 div.sk-estimator {\n",
       "  font-family: monospace;\n",
       "  border: 1px dotted var(--sklearn-color-border-box);\n",
       "  border-radius: 0.25em;\n",
       "  box-sizing: border-box;\n",
       "  margin-bottom: 0.5em;\n",
       "  /* unfitted */\n",
       "  background-color: var(--sklearn-color-unfitted-level-0);\n",
       "}\n",
       "\n",
       "#sk-container-id-2 div.sk-estimator.fitted {\n",
       "  /* fitted */\n",
       "  background-color: var(--sklearn-color-fitted-level-0);\n",
       "}\n",
       "\n",
       "/* on hover */\n",
       "#sk-container-id-2 div.sk-estimator:hover {\n",
       "  /* unfitted */\n",
       "  background-color: var(--sklearn-color-unfitted-level-2);\n",
       "}\n",
       "\n",
       "#sk-container-id-2 div.sk-estimator.fitted:hover {\n",
       "  /* fitted */\n",
       "  background-color: var(--sklearn-color-fitted-level-2);\n",
       "}\n",
       "\n",
       "/* Specification for estimator info (e.g. \"i\" and \"?\") */\n",
       "\n",
       "/* Common style for \"i\" and \"?\" */\n",
       "\n",
       ".sk-estimator-doc-link,\n",
       "a:link.sk-estimator-doc-link,\n",
       "a:visited.sk-estimator-doc-link {\n",
       "  float: right;\n",
       "  font-size: smaller;\n",
       "  line-height: 1em;\n",
       "  font-family: monospace;\n",
       "  background-color: var(--sklearn-color-background);\n",
       "  border-radius: 1em;\n",
       "  height: 1em;\n",
       "  width: 1em;\n",
       "  text-decoration: none !important;\n",
       "  margin-left: 0.5em;\n",
       "  text-align: center;\n",
       "  /* unfitted */\n",
       "  border: var(--sklearn-color-unfitted-level-1) 1pt solid;\n",
       "  color: var(--sklearn-color-unfitted-level-1);\n",
       "}\n",
       "\n",
       ".sk-estimator-doc-link.fitted,\n",
       "a:link.sk-estimator-doc-link.fitted,\n",
       "a:visited.sk-estimator-doc-link.fitted {\n",
       "  /* fitted */\n",
       "  border: var(--sklearn-color-fitted-level-1) 1pt solid;\n",
       "  color: var(--sklearn-color-fitted-level-1);\n",
       "}\n",
       "\n",
       "/* On hover */\n",
       "div.sk-estimator:hover .sk-estimator-doc-link:hover,\n",
       ".sk-estimator-doc-link:hover,\n",
       "div.sk-label-container:hover .sk-estimator-doc-link:hover,\n",
       ".sk-estimator-doc-link:hover {\n",
       "  /* unfitted */\n",
       "  background-color: var(--sklearn-color-unfitted-level-3);\n",
       "  color: var(--sklearn-color-background);\n",
       "  text-decoration: none;\n",
       "}\n",
       "\n",
       "div.sk-estimator.fitted:hover .sk-estimator-doc-link.fitted:hover,\n",
       ".sk-estimator-doc-link.fitted:hover,\n",
       "div.sk-label-container:hover .sk-estimator-doc-link.fitted:hover,\n",
       ".sk-estimator-doc-link.fitted:hover {\n",
       "  /* fitted */\n",
       "  background-color: var(--sklearn-color-fitted-level-3);\n",
       "  color: var(--sklearn-color-background);\n",
       "  text-decoration: none;\n",
       "}\n",
       "\n",
       "/* Span, style for the box shown on hovering the info icon */\n",
       ".sk-estimator-doc-link span {\n",
       "  display: none;\n",
       "  z-index: 9999;\n",
       "  position: relative;\n",
       "  font-weight: normal;\n",
       "  right: .2ex;\n",
       "  padding: .5ex;\n",
       "  margin: .5ex;\n",
       "  width: min-content;\n",
       "  min-width: 20ex;\n",
       "  max-width: 50ex;\n",
       "  color: var(--sklearn-color-text);\n",
       "  box-shadow: 2pt 2pt 4pt #999;\n",
       "  /* unfitted */\n",
       "  background: var(--sklearn-color-unfitted-level-0);\n",
       "  border: .5pt solid var(--sklearn-color-unfitted-level-3);\n",
       "}\n",
       "\n",
       ".sk-estimator-doc-link.fitted span {\n",
       "  /* fitted */\n",
       "  background: var(--sklearn-color-fitted-level-0);\n",
       "  border: var(--sklearn-color-fitted-level-3);\n",
       "}\n",
       "\n",
       ".sk-estimator-doc-link:hover span {\n",
       "  display: block;\n",
       "}\n",
       "\n",
       "/* \"?\"-specific style due to the `<a>` HTML tag */\n",
       "\n",
       "#sk-container-id-2 a.estimator_doc_link {\n",
       "  float: right;\n",
       "  font-size: 1rem;\n",
       "  line-height: 1em;\n",
       "  font-family: monospace;\n",
       "  background-color: var(--sklearn-color-background);\n",
       "  border-radius: 1rem;\n",
       "  height: 1rem;\n",
       "  width: 1rem;\n",
       "  text-decoration: none;\n",
       "  /* unfitted */\n",
       "  color: var(--sklearn-color-unfitted-level-1);\n",
       "  border: var(--sklearn-color-unfitted-level-1) 1pt solid;\n",
       "}\n",
       "\n",
       "#sk-container-id-2 a.estimator_doc_link.fitted {\n",
       "  /* fitted */\n",
       "  border: var(--sklearn-color-fitted-level-1) 1pt solid;\n",
       "  color: var(--sklearn-color-fitted-level-1);\n",
       "}\n",
       "\n",
       "/* On hover */\n",
       "#sk-container-id-2 a.estimator_doc_link:hover {\n",
       "  /* unfitted */\n",
       "  background-color: var(--sklearn-color-unfitted-level-3);\n",
       "  color: var(--sklearn-color-background);\n",
       "  text-decoration: none;\n",
       "}\n",
       "\n",
       "#sk-container-id-2 a.estimator_doc_link.fitted:hover {\n",
       "  /* fitted */\n",
       "  background-color: var(--sklearn-color-fitted-level-3);\n",
       "}\n",
       "\n",
       ".estimator-table summary {\n",
       "    padding: .5rem;\n",
       "    font-family: monospace;\n",
       "    cursor: pointer;\n",
       "}\n",
       "\n",
       ".estimator-table details[open] {\n",
       "    padding-left: 0.1rem;\n",
       "    padding-right: 0.1rem;\n",
       "    padding-bottom: 0.3rem;\n",
       "}\n",
       "\n",
       ".estimator-table .parameters-table {\n",
       "    margin-left: auto !important;\n",
       "    margin-right: auto !important;\n",
       "}\n",
       "\n",
       ".estimator-table .parameters-table tr:nth-child(odd) {\n",
       "    background-color: #fff;\n",
       "}\n",
       "\n",
       ".estimator-table .parameters-table tr:nth-child(even) {\n",
       "    background-color: #f6f6f6;\n",
       "}\n",
       "\n",
       ".estimator-table .parameters-table tr:hover {\n",
       "    background-color: #e0e0e0;\n",
       "}\n",
       "\n",
       ".estimator-table table td {\n",
       "    border: 1px solid rgba(106, 105, 104, 0.232);\n",
       "}\n",
       "\n",
       ".user-set td {\n",
       "    color:rgb(255, 94, 0);\n",
       "    text-align: left;\n",
       "}\n",
       "\n",
       ".user-set td.value pre {\n",
       "    color:rgb(255, 94, 0) !important;\n",
       "    background-color: transparent !important;\n",
       "}\n",
       "\n",
       ".default td {\n",
       "    color: black;\n",
       "    text-align: left;\n",
       "}\n",
       "\n",
       ".user-set td i,\n",
       ".default td i {\n",
       "    color: black;\n",
       "}\n",
       "\n",
       ".copy-paste-icon {\n",
       "    background-image: url(data:image/svg+xml;base64,PHN2ZyB4bWxucz0iaHR0cDovL3d3dy53My5vcmcvMjAwMC9zdmciIHZpZXdCb3g9IjAgMCA0NDggNTEyIj48IS0tIUZvbnQgQXdlc29tZSBGcmVlIDYuNy4yIGJ5IEBmb250YXdlc29tZSAtIGh0dHBzOi8vZm9udGF3ZXNvbWUuY29tIExpY2Vuc2UgLSBodHRwczovL2ZvbnRhd2Vzb21lLmNvbS9saWNlbnNlL2ZyZWUgQ29weXJpZ2h0IDIwMjUgRm9udGljb25zLCBJbmMuLS0+PHBhdGggZD0iTTIwOCAwTDMzMi4xIDBjMTIuNyAwIDI0LjkgNS4xIDMzLjkgMTQuMWw2Ny45IDY3LjljOSA5IDE0LjEgMjEuMiAxNC4xIDMzLjlMNDQ4IDMzNmMwIDI2LjUtMjEuNSA0OC00OCA0OGwtMTkyIDBjLTI2LjUgMC00OC0yMS41LTQ4LTQ4bDAtMjg4YzAtMjYuNSAyMS41LTQ4IDQ4LTQ4ek00OCAxMjhsODAgMCAwIDY0LTY0IDAgMCAyNTYgMTkyIDAgMC0zMiA2NCAwIDAgNDhjMCAyNi41LTIxLjUgNDgtNDggNDhMNDggNTEyYy0yNi41IDAtNDgtMjEuNS00OC00OEwwIDE3NmMwLTI2LjUgMjEuNS00OCA0OC00OHoiLz48L3N2Zz4=);\n",
       "    background-repeat: no-repeat;\n",
       "    background-size: 14px 14px;\n",
       "    background-position: 0;\n",
       "    display: inline-block;\n",
       "    width: 14px;\n",
       "    height: 14px;\n",
       "    cursor: pointer;\n",
       "}\n",
       "</style><body><div id=\"sk-container-id-2\" class=\"sk-top-container\"><div class=\"sk-text-repr-fallback\"><pre>LinearRegression()</pre><b>In a Jupyter environment, please rerun this cell to show the HTML representation or trust the notebook. <br />On GitHub, the HTML representation is unable to render, please try loading this page with nbviewer.org.</b></div><div class=\"sk-container\" hidden><div class=\"sk-item\"><div class=\"sk-estimator fitted sk-toggleable\"><input class=\"sk-toggleable__control sk-hidden--visually\" id=\"sk-estimator-id-2\" type=\"checkbox\" checked><label for=\"sk-estimator-id-2\" class=\"sk-toggleable__label fitted sk-toggleable__label-arrow\"><div><div>LinearRegression</div></div><div><a class=\"sk-estimator-doc-link fitted\" rel=\"noreferrer\" target=\"_blank\" href=\"https://scikit-learn.org/1.7/modules/generated/sklearn.linear_model.LinearRegression.html\">?<span>Documentation for LinearRegression</span></a><span class=\"sk-estimator-doc-link fitted\">i<span>Fitted</span></span></div></label><div class=\"sk-toggleable__content fitted\" data-param-prefix=\"\">\n",
       "        <div class=\"estimator-table\">\n",
       "            <details>\n",
       "                <summary>Parameters</summary>\n",
       "                <table class=\"parameters-table\">\n",
       "                  <tbody>\n",
       "                    \n",
       "        <tr class=\"default\">\n",
       "            <td><i class=\"copy-paste-icon\"\n",
       "                 onclick=\"copyToClipboard('fit_intercept',\n",
       "                          this.parentElement.nextElementSibling)\"\n",
       "            ></i></td>\n",
       "            <td class=\"param\">fit_intercept&nbsp;</td>\n",
       "            <td class=\"value\">True</td>\n",
       "        </tr>\n",
       "    \n",
       "\n",
       "        <tr class=\"default\">\n",
       "            <td><i class=\"copy-paste-icon\"\n",
       "                 onclick=\"copyToClipboard('copy_X',\n",
       "                          this.parentElement.nextElementSibling)\"\n",
       "            ></i></td>\n",
       "            <td class=\"param\">copy_X&nbsp;</td>\n",
       "            <td class=\"value\">True</td>\n",
       "        </tr>\n",
       "    \n",
       "\n",
       "        <tr class=\"default\">\n",
       "            <td><i class=\"copy-paste-icon\"\n",
       "                 onclick=\"copyToClipboard('tol',\n",
       "                          this.parentElement.nextElementSibling)\"\n",
       "            ></i></td>\n",
       "            <td class=\"param\">tol&nbsp;</td>\n",
       "            <td class=\"value\">1e-06</td>\n",
       "        </tr>\n",
       "    \n",
       "\n",
       "        <tr class=\"default\">\n",
       "            <td><i class=\"copy-paste-icon\"\n",
       "                 onclick=\"copyToClipboard('n_jobs',\n",
       "                          this.parentElement.nextElementSibling)\"\n",
       "            ></i></td>\n",
       "            <td class=\"param\">n_jobs&nbsp;</td>\n",
       "            <td class=\"value\">None</td>\n",
       "        </tr>\n",
       "    \n",
       "\n",
       "        <tr class=\"default\">\n",
       "            <td><i class=\"copy-paste-icon\"\n",
       "                 onclick=\"copyToClipboard('positive',\n",
       "                          this.parentElement.nextElementSibling)\"\n",
       "            ></i></td>\n",
       "            <td class=\"param\">positive&nbsp;</td>\n",
       "            <td class=\"value\">False</td>\n",
       "        </tr>\n",
       "    \n",
       "                  </tbody>\n",
       "                </table>\n",
       "            </details>\n",
       "        </div>\n",
       "    </div></div></div></div></div><script>function copyToClipboard(text, element) {\n",
       "    // Get the parameter prefix from the closest toggleable content\n",
       "    const toggleableContent = element.closest('.sk-toggleable__content');\n",
       "    const paramPrefix = toggleableContent ? toggleableContent.dataset.paramPrefix : '';\n",
       "    const fullParamName = paramPrefix ? `${paramPrefix}${text}` : text;\n",
       "\n",
       "    const originalStyle = element.style;\n",
       "    const computedStyle = window.getComputedStyle(element);\n",
       "    const originalWidth = computedStyle.width;\n",
       "    const originalHTML = element.innerHTML.replace('Copied!', '');\n",
       "\n",
       "    navigator.clipboard.writeText(fullParamName)\n",
       "        .then(() => {\n",
       "            element.style.width = originalWidth;\n",
       "            element.style.color = 'green';\n",
       "            element.innerHTML = \"Copied!\";\n",
       "\n",
       "            setTimeout(() => {\n",
       "                element.innerHTML = originalHTML;\n",
       "                element.style = originalStyle;\n",
       "            }, 2000);\n",
       "        })\n",
       "        .catch(err => {\n",
       "            console.error('Failed to copy:', err);\n",
       "            element.style.color = 'red';\n",
       "            element.innerHTML = \"Failed!\";\n",
       "            setTimeout(() => {\n",
       "                element.innerHTML = originalHTML;\n",
       "                element.style = originalStyle;\n",
       "            }, 2000);\n",
       "        });\n",
       "    return false;\n",
       "}\n",
       "\n",
       "document.querySelectorAll('.fa-regular.fa-copy').forEach(function(element) {\n",
       "    const toggleableContent = element.closest('.sk-toggleable__content');\n",
       "    const paramPrefix = toggleableContent ? toggleableContent.dataset.paramPrefix : '';\n",
       "    const paramName = element.parentElement.nextElementSibling.textContent.trim();\n",
       "    const fullParamName = paramPrefix ? `${paramPrefix}${paramName}` : paramName;\n",
       "\n",
       "    element.setAttribute('title', fullParamName);\n",
       "});\n",
       "</script></body>"
      ],
      "text/plain": [
       "LinearRegression()"
      ]
     },
     "execution_count": 49,
     "metadata": {},
     "output_type": "execute_result"
    }
   ],
   "source": [
    "lr = LinearRegression()\n",
    "lr.fit(X_train, y_train)"
   ]
  },
  {
   "cell_type": "code",
   "execution_count": 50,
   "id": "9a3f3624",
   "metadata": {},
   "outputs": [
    {
     "name": "stdout",
     "output_type": "stream",
     "text": [
      "0.38419522554003316\n",
      "0.5006908458175825\n"
     ]
    }
   ],
   "source": [
    "print(lr.score(X_test, y_test))\n",
    "print(lr.score(X_train, y_train))"
   ]
  },
  {
   "cell_type": "code",
   "execution_count": 51,
   "id": "050f2be1",
   "metadata": {},
   "outputs": [],
   "source": [
    "from sklearn.metrics import mean_absolute_error, mean_squared_error, r2_score"
   ]
  },
  {
   "cell_type": "code",
   "execution_count": 52,
   "id": "deb35638",
   "metadata": {},
   "outputs": [
    {
     "name": "stdout",
     "output_type": "stream",
     "text": [
      "0.21687559658246833\n",
      "0.07919436981579814\n",
      "0.38419522554003316\n"
     ]
    }
   ],
   "source": [
    "y_pred= lr.predict(X_test)\n",
    "print(mean_absolute_error(y_test, y_pred))\n",
    "print(mean_squared_error(y_test, y_pred))\n",
    "print(r2_score(y_test, y_pred))"
   ]
  },
  {
   "cell_type": "markdown",
   "id": "fe02f282",
   "metadata": {},
   "source": [
    "## 📊 Model Evaluation Summary\n",
    "\n",
    "**Model:**\n",
    "- **Features used:** `bedrooms`, `bathrooms`, `house sqft`, `lot sqft`\n",
    "- **Mean Absolute Error (MAE):** 0.22 (log scale)\n",
    "- **Mean Squared Error (MSE):** 0.08 (log scale)\n",
    "- **R² Score:** 0.59\n",
    "\n",
    "- The model explains about 59% of the variation in house prices, which is a reasonable baseline for a simple linear model for house prices.\n",
    "- Key size-related features (bedrooms, bathrooms, square footage) are relevant and meaningful predictors.\n",
    "- No signs of major data leaks or obvious bugs."
   ]
  },
  {
   "cell_type": "markdown",
   "id": "58333cf4",
   "metadata": {},
   "source": [
    "## 📌 Project Summary\n",
    "\n",
    "In this project, I worked through a complete end-to-end workflow to understand and model Seattle housing prices:\n",
    "\n",
    "- **Loaded the dataset** and performed an initial inspection.\n",
    "- **Cleaned the data** by handling missing values, removing any duplicates, fixing data types for modeling, and addressing outliers to ensure a reliable dataset.\n",
    "- **Analyzed the raw prices**, calculated descriptive statistics, and identified that the price distribution was right-skewed by calculating skewness and kurtosis.\n",
    "- **Visualized the original price distribution** using a histogram and boxplot to clearly see the skewness and potential outliers.\n",
    "- **Discussed the importance of normality** for linear regression, which relies on the assumption that residuals are normally distributed, justifying the need for a log transformation.\n",
    "- **Applied a log transformation** to the `price` column to normalize the target variable.\n",
    "- **Verified the transformed prices** by recalculating summary statistics, skewness, and kurtosis to demonstrate that the distribution was now closer to normal.\n",
    "- **Visualized scatterplots** for each numerical feature (bedrooms, bathrooms, house sqft, lot sqft) against the log-transformed price to identify linear relationships.\n",
    "- **Selected relevant features** that showed a clear linear correlation with the target variable.\n",
    "- **Built and trained a linear regression model** using scikit-learn, reserving 20% of the data for testing.\n",
    "- **Evaluated the model’s performance** using Mean Absolute Error (MAE), Mean Squared Error (MSE), and the R² score: MAE: 0.25, MSE: 0.12, R²: 0.59\n",
    "\n",
    "\n",
    "This project demonstrates my ability to perform practical exploratory data analysis (EDA), apply appropriate data transformations, justify modeling choices, and interpret model performance with clear metrics and visualizations.\n",
    "\n",
    "  \n"
   ]
  },
  {
   "cell_type": "markdown",
   "id": "23451382",
   "metadata": {},
   "source": [
    "## 🔍 Next Steps\n",
    "\n",
    "If I were to extend and improve this project further, I would focus on:\n",
    "\n",
    "- **Encoding Categorical Variables:** Properly encode categorical data (e.g., neighborhoods, zip codes) using one-hot encoding or target encoding for better model performance.\n",
    "- **Outlier Analysis:** Perform more robust outlier detection, especially on lot sizes or extreme prices, to reduce their impact on the model.\n",
    "- **Try Non-Linear Models:** Experiment with more advanced models like Random Forest Regression, Gradient Boosting, or XGBoost to capture non-linear patterns that a simple linear regression might miss.\n",
    "- **Cross-Validation:** Use cross-validation to better assess model performance and avoid overfitting.\n",
    "- **Hyperparameter Tuning:** Tune model parameters systematically to improve predictive power.\n",
    "- **Residual Analysis:** Analyze residuals in more detail to check for any patterns or violations of model assumptions.\n",
    "- **Pipeline & Scaling:** Build a full modeling pipeline with scaling, encoding, and transformation steps to make the workflow reproducible and robust.\n",
    "- **Compare Models:** Compare multiple models (linear and non-linear) side by side to pick the best-performing one for this dataset.\n",
    "- **Communicate Insights:** Prepare clear visualizations and a concise report or dashboard to communicate findings to non-technical stakeholders.\n",
    "\n",
    "This would help move the project beyond a baseline model and demonstrate deeper modeling skills and practical problem-solving.\n"
   ]
  }
 ],
 "metadata": {
  "kernelspec": {
   "display_name": "Python 3",
   "language": "python",
   "name": "python3"
  },
  "language_info": {
   "codemirror_mode": {
    "name": "ipython",
    "version": 3
   },
   "file_extension": ".py",
   "mimetype": "text/x-python",
   "name": "python",
   "nbconvert_exporter": "python",
   "pygments_lexer": "ipython3",
   "version": "3.11.9"
  }
 },
 "nbformat": 4,
 "nbformat_minor": 5
}
